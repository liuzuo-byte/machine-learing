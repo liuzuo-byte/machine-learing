{
 "cells": [
  {
   "cell_type": "code",
   "execution_count": 57,
   "metadata": {
    "collapsed": true
   },
   "outputs": [],
   "source": [
    "def loadDataSet():                         #定义加载数据函数\n",
    "    dataMat = []                           #定义dataMat列表用来存放特征\n",
    "    labelMat = []                          #定义labelMat列表用来存放标签\n",
    "    fr = open('testSet.txt')              #jupyter只能读取Home目录下的文件，所以在home里上传数据集\n",
    "    for line in fr.readlines():           #readlines()读取所有行，并以每行作为一个元素保存到数组line，这里对数组进行遍历\n",
    "        lineArr = line.strip().split()     #strip()方法用来去除头尾的空格或换行，split()以空格将他们分开，保存在一个列表lineArr中\n",
    "        dataMat.append([1.0,float(lineArr[0]),float(lineArr[1])])   #将1.0，lineArr的第一元素，第二个元素组成一个列表加入dataMat中\n",
    "        labelMat.append(int(lineArr[2]))   #将linearr的第3个元素加入labelMat列表中\n",
    "    fr.close()                             #关闭文件，一般读取了文件后要关闭文件，防止占用内存\n",
    "    return dataMat,labelMat                    #返回dataMat，labelMat列表"
   ]
  },
  {
   "cell_type": "code",
   "execution_count": 58,
   "metadata": {
    "collapsed": true
   },
   "outputs": [],
   "source": [
    "from math import exp"
   ]
  },
  {
   "cell_type": "code",
   "execution_count": 59,
   "metadata": {
    "collapsed": true
   },
   "outputs": [],
   "source": [
    "import numpy as np\n",
    "def sigmoid(inx):\n",
    "    return 1.0/(1+np.exp(-inx))\n",
    "    "
   ]
  },
  {
   "cell_type": "code",
   "execution_count": 60,
   "metadata": {
    "collapsed": true
   },
   "outputs": [],
   "source": [
    "def gradAscent(dataMatIn,classLabels):\n",
    "    dataMatrix = np.mat(dataMatIn)                #将特征数据转成m*3矩阵\n",
    "    labelMat =np.mat(classLabels).transpose()     #将标签列表转换成m*1矩阵\n",
    "    m,n = np.shape(dataMatrix)           #计算矩阵的行和列\n",
    "    alpha = 0.001\n",
    "    maxCycles = 500\n",
    "    weights = np.ones((n,1))         #先将权重全部设为1，n行1列\n",
    "    for k in range(maxCycles):\n",
    "        h = sigmoid(dataMatrix*weights)\n",
    "        error = (labelMat-h)\n",
    "        weights = weights + alpha*dataMatrix.transpose()*error    #梯度上升算法，结合最大似然函数\n",
    "    return weights"
   ]
  },
  {
   "cell_type": "code",
   "execution_count": 61,
   "metadata": {},
   "outputs": [
    {
     "data": {
      "text/plain": [
       "matrix([[ 4.12414349],\n",
       "        [ 0.48007329],\n",
       "        [-0.6168482 ]])"
      ]
     },
     "execution_count": 61,
     "metadata": {},
     "output_type": "execute_result"
    }
   ],
   "source": [
    "dataArr,labelMat = loadDataSet()\n",
    "gradAscent(dataArr,labelMat)        #计算出权重"
   ]
  },
  {
   "cell_type": "code",
   "execution_count": 62,
   "metadata": {},
   "outputs": [
    {
     "name": "stdout",
     "output_type": "stream",
     "text": [
      "[[1.0, -0.017612, 14.053064], [1.0, -1.395634, 4.662541], [1.0, -0.752157, 6.53862], [1.0, -1.322371, 7.152853], [1.0, 0.423363, 11.054677], [1.0, 0.406704, 7.067335], [1.0, 0.667394, 12.741452], [1.0, -2.46015, 6.866805], [1.0, 0.569411, 9.548755], [1.0, -0.026632, 10.427743], [1.0, 0.850433, 6.920334], [1.0, 1.347183, 13.1755], [1.0, 1.176813, 3.16702], [1.0, -1.781871, 9.097953], [1.0, -0.566606, 5.749003], [1.0, 0.931635, 1.589505], [1.0, -0.024205, 6.151823], [1.0, -0.036453, 2.690988], [1.0, -0.196949, 0.444165], [1.0, 1.014459, 5.754399], [1.0, 1.985298, 3.230619], [1.0, -1.693453, -0.55754], [1.0, -0.576525, 11.778922], [1.0, -0.346811, -1.67873], [1.0, -2.124484, 2.672471], [1.0, 1.217916, 9.597015], [1.0, -0.733928, 9.098687], [1.0, -3.642001, -1.618087], [1.0, 0.315985, 3.523953], [1.0, 1.416614, 9.619232], [1.0, -0.386323, 3.989286], [1.0, 0.556921, 8.294984], [1.0, 1.224863, 11.58736], [1.0, -1.347803, -2.406051], [1.0, 1.196604, 4.951851], [1.0, 0.275221, 9.543647], [1.0, 0.470575, 9.332488], [1.0, -1.889567, 9.542662], [1.0, -1.527893, 12.150579], [1.0, -1.185247, 11.309318], [1.0, -0.445678, 3.297303], [1.0, 1.042222, 6.105155], [1.0, -0.618787, 10.320986], [1.0, 1.152083, 0.548467], [1.0, 0.828534, 2.676045], [1.0, -1.237728, 10.549033], [1.0, -0.683565, -2.166125], [1.0, 0.229456, 5.921938], [1.0, -0.959885, 11.555336], [1.0, 0.492911, 10.993324], [1.0, 0.184992, 8.721488], [1.0, -0.355715, 10.325976], [1.0, -0.397822, 8.058397], [1.0, 0.824839, 13.730343], [1.0, 1.507278, 5.027866], [1.0, 0.099671, 6.835839], [1.0, -0.344008, 10.717485], [1.0, 1.785928, 7.718645], [1.0, -0.918801, 11.560217], [1.0, -0.364009, 4.7473], [1.0, -0.841722, 4.119083], [1.0, 0.490426, 1.960539], [1.0, -0.007194, 9.075792], [1.0, 0.356107, 12.447863], [1.0, 0.342578, 12.281162], [1.0, -0.810823, -1.466018], [1.0, 2.530777, 6.476801], [1.0, 1.296683, 11.607559], [1.0, 0.475487, 12.040035], [1.0, -0.783277, 11.009725], [1.0, 0.074798, 11.02365], [1.0, -1.337472, 0.468339], [1.0, -0.102781, 13.763651], [1.0, -0.147324, 2.874846], [1.0, 0.518389, 9.887035], [1.0, 1.015399, 7.571882], [1.0, -1.658086, -0.027255], [1.0, 1.319944, 2.171228], [1.0, 2.056216, 5.019981], [1.0, -0.851633, 4.375691], [1.0, -1.510047, 6.061992], [1.0, -1.076637, -3.181888], [1.0, 1.821096, 10.28399], [1.0, 3.01015, 8.401766], [1.0, -1.099458, 1.688274], [1.0, -0.834872, -1.733869], [1.0, -0.846637, 3.849075], [1.0, 1.400102, 12.628781], [1.0, 1.752842, 5.468166], [1.0, 0.078557, 0.059736], [1.0, 0.089392, -0.7153], [1.0, 1.825662, 12.693808], [1.0, 0.197445, 9.744638], [1.0, 0.126117, 0.922311], [1.0, -0.679797, 1.22053], [1.0, 0.677983, 2.556666], [1.0, 0.761349, 10.693862], [1.0, -2.168791, 0.143632], [1.0, 1.38861, 9.341997], [1.0, 0.317029, 14.739025]]\n"
     ]
    }
   ],
   "source": [
    "print(dataArr)"
   ]
  },
  {
   "cell_type": "code",
   "execution_count": 63,
   "metadata": {},
   "outputs": [
    {
     "name": "stdout",
     "output_type": "stream",
     "text": [
      "(100, 3)\n"
     ]
    }
   ],
   "source": [
    "dataMat = np.array(dataArr)\n",
    "print(np.shape(dataMat))"
   ]
  },
  {
   "cell_type": "code",
   "execution_count": 64,
   "metadata": {
    "collapsed": true
   },
   "outputs": [],
   "source": [
    "def plotBestFit(weights):\n",
    "    import matplotlib.pyplot as plt\n",
    "    dataMat,labelMat = loadDataSet()\n",
    "    dataArr = array(dataMat)\n",
    "    n =np.shape(dataArr)[0]\n",
    "    xcord1 = [];ycord1 = []\n",
    "    xcord2 = [];ycord2 = []\n",
    "    for i in range(n):\n",
    "        if int(labelMat[i])==1:\n",
    "            xcord1.append((dataArr[i][1]));ycord1.append((dataArr[i][2]))\n",
    "        else:\n",
    "            xcord2.append((dataArr[i][1]));ycord2.append((dataArr[i][2]))\n",
    "    fig = plt.figure()   #在Matplotlib中，整个图像为figure（重命名fig）对象\n",
    "    ax = fig.add_subplot(111)  #ax为绘制区域，每个fig对象有1个或多个绘制区域（ax)，每个ax都是拥有一个自己坐标系统的绘制区域\n",
    "    ax.scatter(xcord1,ycord1,s=30,c='red',marker='s')    #scatter为绘制散点图函数，s=30为点的大小，marker=s意为将点标记为正方形\n",
    "    ax.scatter(xcord2,ycord2,s=30,c='green')\n",
    "    x=arange(-3.0,3.0,0.1)     #x轴的范围为-3到3，间隔为0.1\n",
    "    y=(-weights[0]-weights[1]*x)/weights[2]     #令W0+W1X1+W2XW2=0，0是两个类别的分界处，\n",
    "    ax.plot(x,y)       #将x，y传给plot函数，绘制图形\n",
    "    plt.xlabel('X1');plt.ylabel('X2')\n",
    "    plt.show()  #显示图形"
   ]
  },
  {
   "cell_type": "code",
   "execution_count": 65,
   "metadata": {},
   "outputs": [
    {
     "data": {
      "image/png": "[encoded data removed]",
      "text/plain": [
       "<matplotlib.figure.Figure at 0x1b258f471d0>"
      ]
     },
     "metadata": {},
     "output_type": "display_data"
    }
   ],
   "source": [
    "from numpy import * \n",
    "weights = gradAscent(dataArr,labelMat)\n",
    "plotBestFit(weights.getA())    #getA函数用来将矩阵转换成数组"
   ]
  },
  {
   "cell_type": "code",
   "execution_count": null,
   "metadata": {
    "collapsed": true
   },
   "outputs": [],
   "source": []
  },
  {
   "cell_type": "code",
   "execution_count": null,
   "metadata": {
    "collapsed": true
   },
   "outputs": [],
   "source": []
  }
 ],
 "metadata": {
  "kernelspec": {
   "display_name": "Python 3",
   "language": "python",
   "name": "python3"
  },
  "language_info": {
   "codemirror_mode": {
    "name": "ipython",
    "version": 3
   },
   "file_extension": ".py",
   "mimetype": "text/x-python",
   "name": "python",
   "nbconvert_exporter": "python",
   "pygments_lexer": "ipython3",
   "version": "3.6.3"
  }
 },
 "nbformat": 4,
 "nbformat_minor": 2
}
