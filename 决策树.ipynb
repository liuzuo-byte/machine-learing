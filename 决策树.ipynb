{
 "cells": [
  {
   "cell_type": "code",
   "execution_count": 1,
   "metadata": {
    "collapsed": true
   },
   "outputs": [],
   "source": [
    "from math import log                              #从math中导入log函数\n",
    "def calcShannonEnt(dataSet):\n",
    "    numEntries = len(dataSet)                     #计算样本的数量\n",
    "    labelCounts = {}                             #初始化一个字典，key是标签类别，value是标签出现的次数\n",
    "    for featVec in dataSet:                     #遍历样本，featVec相当于代数，这里指样本（dataSet）中的一列\n",
    "        currentLabel = featVec[-1]               #这一行的倒数第一个值赋值给currentLabel,最后一个值就是该样本的标签\n",
    "        if currentLabel not in labelCounts.keys():#如果该标签不在字典中\n",
    "            labelCounts[currentLabel]=0           #将该加入字典，次数赋值为0\n",
    "        labelCounts[currentLabel] += 1            #新标签次数加一，或者，如果标签已经存在，次数加一\n",
    "    shannonEnt = 0.0                              #信息熵初始化为0\n",
    "    for key in labelCounts:                     #遍历标签\n",
    "        prob = float(labelCounts[key])/numEntries#求该标签占总样本的概率\n",
    "        shannonEnt -= prob * log(prob,2)       #计算信息熵 \n",
    "    return shannonEnt                         #返回信息熵"
   ]
  },
  {
   "cell_type": "code",
   "execution_count": 2,
   "metadata": {
    "collapsed": true
   },
   "outputs": [],
   "source": [
    "def createDataSet():                                                     #创建样本                     \n",
    "    dataSet = [[1,1,'yes'],[1,1,'yes'],[1,0,'no'],[0,1,'no'],[0,1,'no']]#样本列表\n",
    "    labels = ['no surfacing','flippers']                                 #标签列表\n",
    "    return dataSet,labels                                               #返回样本，标签"
   ]
  },
  {
   "cell_type": "code",
   "execution_count": 3,
   "metadata": {},
   "outputs": [
    {
     "data": {
      "text/plain": [
       "[[1, 1, 'yes'], [1, 1, 'yes'], [1, 0, 'no'], [0, 1, 'no'], [0, 1, 'no']]"
      ]
     },
     "execution_count": 3,
     "metadata": {},
     "output_type": "execute_result"
    }
   ],
   "source": [
    "myDat,labels = createDataSet()                                 #将createDataSet函数值返回给myDat,lables\n",
    "myDat"
   ]
  },
  {
   "cell_type": "code",
   "execution_count": 4,
   "metadata": {},
   "outputs": [
    {
     "data": {
      "text/plain": [
       "0.9709505944546686"
      ]
     },
     "execution_count": 4,
     "metadata": {},
     "output_type": "execute_result"
    }
   ],
   "source": [
    " calcShannonEnt(myDat)                                             #计算信息熵"
   ]
  },
  {
   "cell_type": "code",
   "execution_count": 11,
   "metadata": {},
   "outputs": [],
   "source": [
    "def splitDataSet(dataSet,axis,value):                  #定义划分数据集函数，3个参数分别是待划分的数据集，特征，特征的值\n",
    "    retDataSet = []                                     #创建新列表，用来存放划分数据\n",
    "    for featVec in dataSet:                             \n",
    "        if featVec[axis] == value:                      #如果某特征等于某个值\n",
    "            reducedFeatVec = featVec[:axis]             #reducedFeatVec等于该样本属性axis之前的切片序列\n",
    "            reducedFeatVec.extend(featVec[axis+1:])      #在reduceFeatVec列表末尾扩展axis之后的切片序列，这两行就是为了剔除axis\n",
    "            retDataSet.append(reducedFeatVec)           #在retDataSet列表里添加reduceFeatVec列表\n",
    "    return retDataSet                                  #返回划分的数据集"
   ]
  },
  {
   "cell_type": "code",
   "execution_count": 12,
   "metadata": {},
   "outputs": [
    {
     "data": {
      "text/plain": [
       "[[1, 'yes'], [1, 'yes'], [0, 'no']]"
      ]
     },
     "execution_count": 12,
     "metadata": {},
     "output_type": "execute_result"
    }
   ],
   "source": [
    "splitDataSet(myDat,0,1)                  #输出myDat中。第一个特征，值为1的列表，（剔除第一个特征）"
   ]
  },
  {
   "cell_type": "code",
   "execution_count": 16,
   "metadata": {},
   "outputs": [],
   "source": [
    "def chooseBestFeatureTosplit(dataSet):          #构建最优划分属性函数\n",
    "    numFeatures = len(dataSet[0])-1              #求特征的个数，-1因为最后一个是标签\n",
    "    baseEntropy = calcShannonEnt(dataSet)        #计算根节点的信息熵\n",
    "    bestInfoGain = 0.0                            #初始化信息增益\n",
    "    BestFeature = -1                              #初始化最优属性\n",
    "    for i in range(numFeatures):                  #遍历属性\n",
    "        featlist = [example[i] for example in dataSet]#取每一个样本的第i个特征放入featlist中\n",
    "        uniquevals = set(featlist)                     #删除重复值\n",
    "        newEntropy = 0.0                               #初始化分支节点信息熵\n",
    "        for value in uniquevals:                    #循环遍历特征上的取值 \n",
    "            subDataSet = splitDataSet(dataSet,i,value) #以第i个属性划分，得到属性值为value划分子集\n",
    "            prob = len(subDataSet)/float(len(dataSet)) #计算划分子集占样本总数的比重\n",
    "            newEntropy += prob * calcShannonEnt(subDataSet)#求分支节点的熵求和\n",
    "        infoGain = baseEntropy - newEntropy          #信息增益\n",
    "        if(infoGain > bestInfoGain):\n",
    "            bestInfoGain = infoGain\n",
    "            bestFeature = i\n",
    "    return bestFeature                    #返回最优划分特征"
   ]
  },
  {
   "cell_type": "code",
   "execution_count": 17,
   "metadata": {},
   "outputs": [
    {
     "data": {
      "text/plain": [
       "0"
      ]
     },
     "execution_count": 17,
     "metadata": {},
     "output_type": "execute_result"
    }
   ],
   "source": [
    "chooseBestFeatureTosplit(myDat)        #划分myDat数据集的最优属性是第0个特征（如下结果所示）"
   ]
  },
  {
   "cell_type": "code",
   "execution_count": 18,
   "metadata": {},
   "outputs": [
    {
     "data": {
      "text/plain": [
       "[[1, 1, 'yes'], [1, 1, 'yes'], [1, 0, 'no'], [0, 1, 'no'], [0, 1, 'no']]"
      ]
     },
     "execution_count": 18,
     "metadata": {},
     "output_type": "execute_result"
    }
   ],
   "source": [
    "myDat"
   ]
  },
  {
   "cell_type": "code",
   "execution_count": 19,
   "metadata": {
    "collapsed": true
   },
   "outputs": [],
   "source": [
    "import operator                 #导入操作符运算模块"
   ]
  },
  {
   "cell_type": "code",
   "execution_count": 30,
   "metadata": {},
   "outputs": [],
   "source": [
    "def majorityCnt(classList):           #构建函数：计算出现次数最多的标签（多数表决的方法，确定叶子结点）\n",
    "    classCount={}                      #初始化字典\n",
    "    for vote in classList:\n",
    "        if vote not in classList.keys():\n",
    "            classCount[vote] = 0\n",
    "        classCount[vote] += 1\n",
    "    sortedClassCount = sorted(classCount.iteritems(),key = operator.itemgetter(1),reverse=True)#classCount.iteritems()将classCount字典分解为元组列表，operator.itemgetter(1)按照第二个元素的次序对元组进行排序，reverse=True是逆序，即按照从大到小的顺序排列\n",
    "    return sortedClassCount[0][0]     #返回第0个元组的第0个参数"
   ]
  },
  {
   "cell_type": "code",
   "execution_count": null,
   "metadata": {
    "collapsed": true
   },
   "outputs": [],
   "source": []
  },
  {
   "cell_type": "code",
   "execution_count": null,
   "metadata": {
    "collapsed": true
   },
   "outputs": [],
   "source": []
  },
  {
   "cell_type": "code",
   "execution_count": null,
   "metadata": {
    "collapsed": true
   },
   "outputs": [],
   "source": []
  },
  {
   "cell_type": "code",
   "execution_count": null,
   "metadata": {
    "collapsed": true
   },
   "outputs": [],
   "source": []
  },
  {
   "cell_type": "code",
   "execution_count": null,
   "metadata": {
    "collapsed": true
   },
   "outputs": [],
   "source": []
  },
  {
   "cell_type": "code",
   "execution_count": null,
   "metadata": {
    "collapsed": true
   },
   "outputs": [],
   "source": []
  },
  {
   "cell_type": "code",
   "execution_count": null,
   "metadata": {
    "collapsed": true
   },
   "outputs": [],
   "source": []
  },
  {
   "cell_type": "code",
   "execution_count": null,
   "metadata": {
    "collapsed": true
   },
   "outputs": [],
   "source": []
  },
  {
   "cell_type": "code",
   "execution_count": null,
   "metadata": {
    "collapsed": true
   },
   "outputs": [],
   "source": []
  }
 ],
 "metadata": {
  "kernelspec": {
   "display_name": "Python 3",
   "language": "python",
   "name": "python3"
  },
  "language_info": {
   "codemirror_mode": {
    "name": "ipython",
    "version": 3
   },
   "file_extension": ".py",
   "mimetype": "text/x-python",
   "name": "python",
   "nbconvert_exporter": "python",
   "pygments_lexer": "ipython3",
   "version": "3.6.3"
  }
 },
 "nbformat": 4,
 "nbformat_minor": 2
}
